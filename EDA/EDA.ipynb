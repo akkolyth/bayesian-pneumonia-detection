{
 "cells": [
  {
   "cell_type": "markdown",
   "id": "ddb90bd2",
   "metadata": {},
   "source": [
    "# Exploratory Data Analysis (EDA)\n",
    "\n",
    "The dataset is organized into 3 folders (train, test, val) and contains subfolders for each image category (Pneumonia/Normal). There are 5,863 X-Ray images (JPEG) and 2 categories (Pneumonia/Normal).\n",
    "\n",
    "Chest X-ray images (anterior-posterior) were selected from retrospective cohorts of pediatric patients of one to five years old from Guangzhou Women and Children’s Medical Center, Guangzhou. All chest X-ray imaging was performed as part of patients’ routine clinical care.\n",
    "\n",
    "For the analysis of chest x-ray images, all chest radiographs were initially screened for quality control by removing all low quality or unreadable scans. The diagnoses for the images were then graded by two expert physicians before being cleared for training the AI system. In order to account for any grading errors, the evaluation set was also checked by a third expert.\n",
    "\n",
    "Dataset: https://www.kaggle.com/datasets/paultimothymooney/chest-xray-pneumonia"
   ]
  },
  {
   "cell_type": "markdown",
   "id": "17614f04",
   "metadata": {},
   "source": [
    "## Imports "
   ]
  },
  {
   "cell_type": "code",
   "execution_count": 1,
   "id": "064e4e86",
   "metadata": {},
   "outputs": [],
   "source": [
    "import numpy as np\n",
    "import pandas as pd\n",
    "import cv2\n",
    "import glob"
   ]
  },
  {
   "cell_type": "markdown",
   "id": "8cdb4ac0",
   "metadata": {},
   "source": [
    "## Loading datasets on default split (train, val, test)"
   ]
  },
  {
   "cell_type": "markdown",
   "id": "771deaf5",
   "metadata": {},
   "source": [
    "### Loader "
   ]
  },
  {
   "cell_type": "code",
   "execution_count": 2,
   "id": "08795afe",
   "metadata": {},
   "outputs": [],
   "source": [
    "def flatten(lst):\n",
    "    return [x for xs in lst for x in xs]\n",
    "\n",
    "def load_split(split_path: str) -> pd.DataFrame: \n",
    "    image_paths = [] \n",
    "    classes = [] \n",
    "\n",
    "    for split_path in glob.glob(split_path + '/*'):\n",
    "        classes.append(split_path.split('/')[-1]) \n",
    "        image_paths.append(glob.glob(split_path + '/*'))\n",
    "\n",
    "    image_paths = list(flatten(image_paths))\n",
    "    labels = list()\n",
    "\n",
    "    for image_path in image_paths: \n",
    "        label = image_path.split('/')[-2]\n",
    "        labels.append(label)\n",
    "\n",
    "    return pd.DataFrame(list(zip(image_paths, labels)), columns =['image_path', 'target'])"
   ]
  },
  {
   "cell_type": "markdown",
   "id": "b048c001",
   "metadata": {},
   "source": [
    "### Default dataset split - **train**"
   ]
  },
  {
   "cell_type": "code",
   "execution_count": 3,
   "id": "a4192f39",
   "metadata": {},
   "outputs": [
    {
     "data": {
      "text/html": [
       "<div>\n",
       "<style scoped>\n",
       "    .dataframe tbody tr th:only-of-type {\n",
       "        vertical-align: middle;\n",
       "    }\n",
       "\n",
       "    .dataframe tbody tr th {\n",
       "        vertical-align: top;\n",
       "    }\n",
       "\n",
       "    .dataframe thead th {\n",
       "        text-align: right;\n",
       "    }\n",
       "</style>\n",
       "<table border=\"1\" class=\"dataframe\">\n",
       "  <thead>\n",
       "    <tr style=\"text-align: right;\">\n",
       "      <th></th>\n",
       "      <th>image_path</th>\n",
       "      <th>target</th>\n",
       "    </tr>\n",
       "  </thead>\n",
       "  <tbody>\n",
       "    <tr>\n",
       "      <th>0</th>\n",
       "      <td>../data/chest_xray/train/NORMAL/IM-0408-0001.jpeg</td>\n",
       "      <td>NORMAL</td>\n",
       "    </tr>\n",
       "    <tr>\n",
       "      <th>1</th>\n",
       "      <td>../data/chest_xray/train/NORMAL/IM-0541-0001.jpeg</td>\n",
       "      <td>NORMAL</td>\n",
       "    </tr>\n",
       "    <tr>\n",
       "      <th>2</th>\n",
       "      <td>../data/chest_xray/train/NORMAL/NORMAL2-IM-053...</td>\n",
       "      <td>NORMAL</td>\n",
       "    </tr>\n",
       "    <tr>\n",
       "      <th>3</th>\n",
       "      <td>../data/chest_xray/train/NORMAL/NORMAL2-IM-133...</td>\n",
       "      <td>NORMAL</td>\n",
       "    </tr>\n",
       "    <tr>\n",
       "      <th>4</th>\n",
       "      <td>../data/chest_xray/train/NORMAL/IM-0523-0001-0...</td>\n",
       "      <td>NORMAL</td>\n",
       "    </tr>\n",
       "    <tr>\n",
       "      <th>...</th>\n",
       "      <td>...</td>\n",
       "      <td>...</td>\n",
       "    </tr>\n",
       "    <tr>\n",
       "      <th>5211</th>\n",
       "      <td>../data/chest_xray/train/PNEUMONIA/person1349_...</td>\n",
       "      <td>PNEUMONIA</td>\n",
       "    </tr>\n",
       "    <tr>\n",
       "      <th>5212</th>\n",
       "      <td>../data/chest_xray/train/PNEUMONIA/person1312_...</td>\n",
       "      <td>PNEUMONIA</td>\n",
       "    </tr>\n",
       "    <tr>\n",
       "      <th>5213</th>\n",
       "      <td>../data/chest_xray/train/PNEUMONIA/person1411_...</td>\n",
       "      <td>PNEUMONIA</td>\n",
       "    </tr>\n",
       "    <tr>\n",
       "      <th>5214</th>\n",
       "      <td>../data/chest_xray/train/PNEUMONIA/person703_b...</td>\n",
       "      <td>PNEUMONIA</td>\n",
       "    </tr>\n",
       "    <tr>\n",
       "      <th>5215</th>\n",
       "      <td>../data/chest_xray/train/PNEUMONIA/person60_ba...</td>\n",
       "      <td>PNEUMONIA</td>\n",
       "    </tr>\n",
       "  </tbody>\n",
       "</table>\n",
       "<p>5216 rows × 2 columns</p>\n",
       "</div>"
      ],
      "text/plain": [
       "                                             image_path     target\n",
       "0     ../data/chest_xray/train/NORMAL/IM-0408-0001.jpeg     NORMAL\n",
       "1     ../data/chest_xray/train/NORMAL/IM-0541-0001.jpeg     NORMAL\n",
       "2     ../data/chest_xray/train/NORMAL/NORMAL2-IM-053...     NORMAL\n",
       "3     ../data/chest_xray/train/NORMAL/NORMAL2-IM-133...     NORMAL\n",
       "4     ../data/chest_xray/train/NORMAL/IM-0523-0001-0...     NORMAL\n",
       "...                                                 ...        ...\n",
       "5211  ../data/chest_xray/train/PNEUMONIA/person1349_...  PNEUMONIA\n",
       "5212  ../data/chest_xray/train/PNEUMONIA/person1312_...  PNEUMONIA\n",
       "5213  ../data/chest_xray/train/PNEUMONIA/person1411_...  PNEUMONIA\n",
       "5214  ../data/chest_xray/train/PNEUMONIA/person703_b...  PNEUMONIA\n",
       "5215  ../data/chest_xray/train/PNEUMONIA/person60_ba...  PNEUMONIA\n",
       "\n",
       "[5216 rows x 2 columns]"
      ]
     },
     "execution_count": 3,
     "metadata": {},
     "output_type": "execute_result"
    }
   ],
   "source": [
    "train_deafult_df = load_split('../data/chest_xray/train')\n",
    "train_deafult_df"
   ]
  },
  {
   "cell_type": "markdown",
   "id": "4d957ed8",
   "metadata": {},
   "source": [
    "### Default dataset split - **validation**"
   ]
  },
  {
   "cell_type": "code",
   "execution_count": 4,
   "id": "70e633eb",
   "metadata": {},
   "outputs": [
    {
     "data": {
      "text/html": [
       "<div>\n",
       "<style scoped>\n",
       "    .dataframe tbody tr th:only-of-type {\n",
       "        vertical-align: middle;\n",
       "    }\n",
       "\n",
       "    .dataframe tbody tr th {\n",
       "        vertical-align: top;\n",
       "    }\n",
       "\n",
       "    .dataframe thead th {\n",
       "        text-align: right;\n",
       "    }\n",
       "</style>\n",
       "<table border=\"1\" class=\"dataframe\">\n",
       "  <thead>\n",
       "    <tr style=\"text-align: right;\">\n",
       "      <th></th>\n",
       "      <th>image_path</th>\n",
       "      <th>target</th>\n",
       "    </tr>\n",
       "  </thead>\n",
       "  <tbody>\n",
       "    <tr>\n",
       "      <th>0</th>\n",
       "      <td>../data/chest_xray/val/NORMAL/NORMAL2-IM-1431-...</td>\n",
       "      <td>NORMAL</td>\n",
       "    </tr>\n",
       "    <tr>\n",
       "      <th>1</th>\n",
       "      <td>../data/chest_xray/val/NORMAL/NORMAL2-IM-1440-...</td>\n",
       "      <td>NORMAL</td>\n",
       "    </tr>\n",
       "    <tr>\n",
       "      <th>2</th>\n",
       "      <td>../data/chest_xray/val/NORMAL/NORMAL2-IM-1427-...</td>\n",
       "      <td>NORMAL</td>\n",
       "    </tr>\n",
       "    <tr>\n",
       "      <th>3</th>\n",
       "      <td>../data/chest_xray/val/NORMAL/NORMAL2-IM-1438-...</td>\n",
       "      <td>NORMAL</td>\n",
       "    </tr>\n",
       "    <tr>\n",
       "      <th>4</th>\n",
       "      <td>../data/chest_xray/val/NORMAL/NORMAL2-IM-1430-...</td>\n",
       "      <td>NORMAL</td>\n",
       "    </tr>\n",
       "    <tr>\n",
       "      <th>5</th>\n",
       "      <td>../data/chest_xray/val/NORMAL/NORMAL2-IM-1437-...</td>\n",
       "      <td>NORMAL</td>\n",
       "    </tr>\n",
       "    <tr>\n",
       "      <th>6</th>\n",
       "      <td>../data/chest_xray/val/NORMAL/NORMAL2-IM-1436-...</td>\n",
       "      <td>NORMAL</td>\n",
       "    </tr>\n",
       "    <tr>\n",
       "      <th>7</th>\n",
       "      <td>../data/chest_xray/val/NORMAL/NORMAL2-IM-1442-...</td>\n",
       "      <td>NORMAL</td>\n",
       "    </tr>\n",
       "    <tr>\n",
       "      <th>8</th>\n",
       "      <td>../data/chest_xray/val/PNEUMONIA/person1946_ba...</td>\n",
       "      <td>PNEUMONIA</td>\n",
       "    </tr>\n",
       "    <tr>\n",
       "      <th>9</th>\n",
       "      <td>../data/chest_xray/val/PNEUMONIA/person1950_ba...</td>\n",
       "      <td>PNEUMONIA</td>\n",
       "    </tr>\n",
       "    <tr>\n",
       "      <th>10</th>\n",
       "      <td>../data/chest_xray/val/PNEUMONIA/person1949_ba...</td>\n",
       "      <td>PNEUMONIA</td>\n",
       "    </tr>\n",
       "    <tr>\n",
       "      <th>11</th>\n",
       "      <td>../data/chest_xray/val/PNEUMONIA/person1952_ba...</td>\n",
       "      <td>PNEUMONIA</td>\n",
       "    </tr>\n",
       "    <tr>\n",
       "      <th>12</th>\n",
       "      <td>../data/chest_xray/val/PNEUMONIA/person1946_ba...</td>\n",
       "      <td>PNEUMONIA</td>\n",
       "    </tr>\n",
       "    <tr>\n",
       "      <th>13</th>\n",
       "      <td>../data/chest_xray/val/PNEUMONIA/person1947_ba...</td>\n",
       "      <td>PNEUMONIA</td>\n",
       "    </tr>\n",
       "    <tr>\n",
       "      <th>14</th>\n",
       "      <td>../data/chest_xray/val/PNEUMONIA/person1954_ba...</td>\n",
       "      <td>PNEUMONIA</td>\n",
       "    </tr>\n",
       "    <tr>\n",
       "      <th>15</th>\n",
       "      <td>../data/chest_xray/val/PNEUMONIA/person1951_ba...</td>\n",
       "      <td>PNEUMONIA</td>\n",
       "    </tr>\n",
       "  </tbody>\n",
       "</table>\n",
       "</div>"
      ],
      "text/plain": [
       "                                           image_path     target\n",
       "0   ../data/chest_xray/val/NORMAL/NORMAL2-IM-1431-...     NORMAL\n",
       "1   ../data/chest_xray/val/NORMAL/NORMAL2-IM-1440-...     NORMAL\n",
       "2   ../data/chest_xray/val/NORMAL/NORMAL2-IM-1427-...     NORMAL\n",
       "3   ../data/chest_xray/val/NORMAL/NORMAL2-IM-1438-...     NORMAL\n",
       "4   ../data/chest_xray/val/NORMAL/NORMAL2-IM-1430-...     NORMAL\n",
       "5   ../data/chest_xray/val/NORMAL/NORMAL2-IM-1437-...     NORMAL\n",
       "6   ../data/chest_xray/val/NORMAL/NORMAL2-IM-1436-...     NORMAL\n",
       "7   ../data/chest_xray/val/NORMAL/NORMAL2-IM-1442-...     NORMAL\n",
       "8   ../data/chest_xray/val/PNEUMONIA/person1946_ba...  PNEUMONIA\n",
       "9   ../data/chest_xray/val/PNEUMONIA/person1950_ba...  PNEUMONIA\n",
       "10  ../data/chest_xray/val/PNEUMONIA/person1949_ba...  PNEUMONIA\n",
       "11  ../data/chest_xray/val/PNEUMONIA/person1952_ba...  PNEUMONIA\n",
       "12  ../data/chest_xray/val/PNEUMONIA/person1946_ba...  PNEUMONIA\n",
       "13  ../data/chest_xray/val/PNEUMONIA/person1947_ba...  PNEUMONIA\n",
       "14  ../data/chest_xray/val/PNEUMONIA/person1954_ba...  PNEUMONIA\n",
       "15  ../data/chest_xray/val/PNEUMONIA/person1951_ba...  PNEUMONIA"
      ]
     },
     "execution_count": 4,
     "metadata": {},
     "output_type": "execute_result"
    }
   ],
   "source": [
    "val_deafult_df = load_split('../data/chest_xray/val')\n",
    "val_deafult_df"
   ]
  },
  {
   "cell_type": "markdown",
   "id": "1e89e348",
   "metadata": {},
   "source": [
    "### Default dataset split - **test**"
   ]
  },
  {
   "cell_type": "code",
   "execution_count": 5,
   "id": "902e2fbd",
   "metadata": {},
   "outputs": [
    {
     "data": {
      "text/html": [
       "<div>\n",
       "<style scoped>\n",
       "    .dataframe tbody tr th:only-of-type {\n",
       "        vertical-align: middle;\n",
       "    }\n",
       "\n",
       "    .dataframe tbody tr th {\n",
       "        vertical-align: top;\n",
       "    }\n",
       "\n",
       "    .dataframe thead th {\n",
       "        text-align: right;\n",
       "    }\n",
       "</style>\n",
       "<table border=\"1\" class=\"dataframe\">\n",
       "  <thead>\n",
       "    <tr style=\"text-align: right;\">\n",
       "      <th></th>\n",
       "      <th>image_path</th>\n",
       "      <th>target</th>\n",
       "    </tr>\n",
       "  </thead>\n",
       "  <tbody>\n",
       "    <tr>\n",
       "      <th>0</th>\n",
       "      <td>../data/chest_xray/test/NORMAL/NORMAL2-IM-0058...</td>\n",
       "      <td>NORMAL</td>\n",
       "    </tr>\n",
       "    <tr>\n",
       "      <th>1</th>\n",
       "      <td>../data/chest_xray/test/NORMAL/NORMAL2-IM-0278...</td>\n",
       "      <td>NORMAL</td>\n",
       "    </tr>\n",
       "    <tr>\n",
       "      <th>2</th>\n",
       "      <td>../data/chest_xray/test/NORMAL/IM-0033-0001.jpeg</td>\n",
       "      <td>NORMAL</td>\n",
       "    </tr>\n",
       "    <tr>\n",
       "      <th>3</th>\n",
       "      <td>../data/chest_xray/test/NORMAL/NORMAL2-IM-0373...</td>\n",
       "      <td>NORMAL</td>\n",
       "    </tr>\n",
       "    <tr>\n",
       "      <th>4</th>\n",
       "      <td>../data/chest_xray/test/NORMAL/IM-0027-0001.jpeg</td>\n",
       "      <td>NORMAL</td>\n",
       "    </tr>\n",
       "    <tr>\n",
       "      <th>...</th>\n",
       "      <td>...</td>\n",
       "      <td>...</td>\n",
       "    </tr>\n",
       "    <tr>\n",
       "      <th>619</th>\n",
       "      <td>../data/chest_xray/test/PNEUMONIA/person1676_v...</td>\n",
       "      <td>PNEUMONIA</td>\n",
       "    </tr>\n",
       "    <tr>\n",
       "      <th>620</th>\n",
       "      <td>../data/chest_xray/test/PNEUMONIA/person1649_v...</td>\n",
       "      <td>PNEUMONIA</td>\n",
       "    </tr>\n",
       "    <tr>\n",
       "      <th>621</th>\n",
       "      <td>../data/chest_xray/test/PNEUMONIA/person150_ba...</td>\n",
       "      <td>PNEUMONIA</td>\n",
       "    </tr>\n",
       "    <tr>\n",
       "      <th>622</th>\n",
       "      <td>../data/chest_xray/test/PNEUMONIA/person124_ba...</td>\n",
       "      <td>PNEUMONIA</td>\n",
       "    </tr>\n",
       "    <tr>\n",
       "      <th>623</th>\n",
       "      <td>../data/chest_xray/test/PNEUMONIA/person128_ba...</td>\n",
       "      <td>PNEUMONIA</td>\n",
       "    </tr>\n",
       "  </tbody>\n",
       "</table>\n",
       "<p>624 rows × 2 columns</p>\n",
       "</div>"
      ],
      "text/plain": [
       "                                            image_path     target\n",
       "0    ../data/chest_xray/test/NORMAL/NORMAL2-IM-0058...     NORMAL\n",
       "1    ../data/chest_xray/test/NORMAL/NORMAL2-IM-0278...     NORMAL\n",
       "2     ../data/chest_xray/test/NORMAL/IM-0033-0001.jpeg     NORMAL\n",
       "3    ../data/chest_xray/test/NORMAL/NORMAL2-IM-0373...     NORMAL\n",
       "4     ../data/chest_xray/test/NORMAL/IM-0027-0001.jpeg     NORMAL\n",
       "..                                                 ...        ...\n",
       "619  ../data/chest_xray/test/PNEUMONIA/person1676_v...  PNEUMONIA\n",
       "620  ../data/chest_xray/test/PNEUMONIA/person1649_v...  PNEUMONIA\n",
       "621  ../data/chest_xray/test/PNEUMONIA/person150_ba...  PNEUMONIA\n",
       "622  ../data/chest_xray/test/PNEUMONIA/person124_ba...  PNEUMONIA\n",
       "623  ../data/chest_xray/test/PNEUMONIA/person128_ba...  PNEUMONIA\n",
       "\n",
       "[624 rows x 2 columns]"
      ]
     },
     "execution_count": 5,
     "metadata": {},
     "output_type": "execute_result"
    }
   ],
   "source": [
    "test_deafult_df = load_split('../data/chest_xray/test')\n",
    "test_deafult_df"
   ]
  },
  {
   "cell_type": "markdown",
   "id": "6cdb87ca",
   "metadata": {},
   "source": [
    "### Default dataset split - size comparison "
   ]
  },
  {
   "cell_type": "code",
   "execution_count": 6,
   "id": "1d383090",
   "metadata": {},
   "outputs": [
    {
     "name": "stdout",
     "output_type": "stream",
     "text": [
      "Train split size: 5216\n",
      "Validation split size: 16\n",
      "Test split size: 624\n"
     ]
    }
   ],
   "source": [
    "print(f'Train split size:', len(train_deafult_df))\n",
    "print(f'Validation split size:', len(val_deafult_df))\n",
    "print(f'Test split size:', len(test_deafult_df))"
   ]
  },
  {
   "cell_type": "markdown",
   "id": "a155226f",
   "metadata": {},
   "source": [
    "### Default dataset split - class occurency comparsion"
   ]
  },
  {
   "cell_type": "code",
   "execution_count": 7,
   "id": "6c26264e",
   "metadata": {},
   "outputs": [
    {
     "data": {
      "text/plain": [
       "PNEUMONIA    3875\n",
       "NORMAL       1341\n",
       "Name: target, dtype: int64"
      ]
     },
     "execution_count": 7,
     "metadata": {},
     "output_type": "execute_result"
    }
   ],
   "source": [
    "train_deafult_df.target.value_counts()"
   ]
  },
  {
   "cell_type": "code",
   "execution_count": 8,
   "id": "664fe9f5",
   "metadata": {},
   "outputs": [
    {
     "data": {
      "text/plain": [
       "NORMAL       8\n",
       "PNEUMONIA    8\n",
       "Name: target, dtype: int64"
      ]
     },
     "execution_count": 8,
     "metadata": {},
     "output_type": "execute_result"
    }
   ],
   "source": [
    "val_deafult_df.target.value_counts()"
   ]
  },
  {
   "cell_type": "code",
   "execution_count": 9,
   "id": "d7c09727",
   "metadata": {},
   "outputs": [
    {
     "data": {
      "text/plain": [
       "PNEUMONIA    390\n",
       "NORMAL       234\n",
       "Name: target, dtype: int64"
      ]
     },
     "execution_count": 9,
     "metadata": {},
     "output_type": "execute_result"
    }
   ],
   "source": [
    "test_deafult_df.target.value_counts()"
   ]
  },
  {
   "cell_type": "markdown",
   "id": "2bf84c3c",
   "metadata": {},
   "source": [
    "### Deafult dataset split - conclusions \n",
    "* The default data split is clearly incorrect, the validation set is 0.3% of the training set, which is unacceptable. We decided to use our own data manager class to split the data appropriately - our chosen ratio of training set to validation set is 4:1. \n",
    "* We observe that the number of cases with pneumonia is much higher (about 3 times), therefore it is necessary to augment the data. \n",
    "* The test set remains unchanged because it was provided in the dataset and there is no need to change it."
   ]
  },
  {
   "cell_type": "markdown",
   "id": "0b202713",
   "metadata": {},
   "source": [
    "## Loading datasets on custom split (train, val, test) by PneumoniaDataManager"
   ]
  },
  {
   "cell_type": "code",
   "execution_count": 10,
   "id": "160edeeb",
   "metadata": {},
   "outputs": [],
   "source": [
    "import sys\n",
    "sys.path.insert(0, '../tools')\n",
    "\n",
    "from data_tools import PneumoniaDataManager"
   ]
  },
  {
   "cell_type": "code",
   "execution_count": 11,
   "id": "2677284f",
   "metadata": {},
   "outputs": [],
   "source": [
    "pdm = PneumoniaDataManager('../data/chest_xray', val_size=0.2)   "
   ]
  },
  {
   "cell_type": "markdown",
   "id": "eaa69066",
   "metadata": {},
   "source": [
    "### PDM dataset split - class occurency comparsion"
   ]
  },
  {
   "cell_type": "code",
   "execution_count": 12,
   "id": "54a69460",
   "metadata": {},
   "outputs": [
    {
     "name": "stdout",
     "output_type": "stream",
     "text": [
      "Train split size: 4185\n",
      "Validation split size: 1047\n",
      "Test split size: 624\n"
     ]
    }
   ],
   "source": [
    "print(f'Train split size:', len(pdm.splited_df_dict['train']))\n",
    "print(f'Validation split size:', len(pdm.splited_df_dict['val']))\n",
    "print(f'Test split size:', len(pdm.splited_df_dict['test']))"
   ]
  },
  {
   "cell_type": "markdown",
   "id": "da824d20",
   "metadata": {},
   "source": [
    "### PDM dataset split - class occurency comparsion"
   ]
  },
  {
   "cell_type": "code",
   "execution_count": 15,
   "id": "ec02316c",
   "metadata": {},
   "outputs": [
    {
     "data": {
      "text/plain": [
       "PNEUMONIA    3106\n",
       "NORMAL       1079\n",
       "Name: target, dtype: int64"
      ]
     },
     "execution_count": 15,
     "metadata": {},
     "output_type": "execute_result"
    }
   ],
   "source": [
    "pdm.splited_df_dict['train'].target.value_counts()"
   ]
  },
  {
   "cell_type": "code",
   "execution_count": 16,
   "id": "e140dac8",
   "metadata": {},
   "outputs": [
    {
     "data": {
      "text/plain": [
       "PNEUMONIA    777\n",
       "NORMAL       270\n",
       "Name: target, dtype: int64"
      ]
     },
     "execution_count": 16,
     "metadata": {},
     "output_type": "execute_result"
    }
   ],
   "source": [
    "pdm.splited_df_dict['val'].target.value_counts()"
   ]
  },
  {
   "cell_type": "code",
   "execution_count": 17,
   "id": "72e1e690",
   "metadata": {},
   "outputs": [
    {
     "data": {
      "text/plain": [
       "PNEUMONIA    390\n",
       "NORMAL       234\n",
       "Name: target, dtype: int64"
      ]
     },
     "execution_count": 17,
     "metadata": {},
     "output_type": "execute_result"
    }
   ],
   "source": [
    "pdm.splited_df_dict['test'].target.value_counts()"
   ]
  },
  {
   "cell_type": "markdown",
   "id": "8d41f58f",
   "metadata": {},
   "source": [
    "### PDM dataset split - conclusions \n",
    "* jest git"
   ]
  }
 ],
 "metadata": {
  "interpreter": {
   "hash": "c449dbcf868954c57add0d822e3fbfabb4d5dcc897d77faf79026edda4516278"
  },
  "kernelspec": {
   "display_name": "Python 3.8.0 ('bpd-venv-3.8.0': venv)",
   "language": "python",
   "name": "python3"
  },
  "language_info": {
   "codemirror_mode": {
    "name": "ipython",
    "version": 3
   },
   "file_extension": ".py",
   "mimetype": "text/x-python",
   "name": "python",
   "nbconvert_exporter": "python",
   "pygments_lexer": "ipython3",
   "version": "3.8.0"
  }
 },
 "nbformat": 4,
 "nbformat_minor": 5
}
